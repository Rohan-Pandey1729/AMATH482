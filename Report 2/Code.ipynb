{
 "cells": [
  {
   "cell_type": "markdown",
   "metadata": {},
   "source": [
    "# Report 2"
   ]
  },
  {
   "cell_type": "markdown",
   "metadata": {},
   "source": [
    "## Task 1"
   ]
  },
  {
   "cell_type": "code",
   "execution_count": 1,
   "metadata": {},
   "outputs": [
    {
     "name": "stdout",
     "output_type": "stream",
     "text": [
      "(114, 100)\n",
      "(38, 3, 100)\n"
     ]
    }
   ],
   "source": [
    "import numpy as np\n",
    "import matplotlib.pyplot as plt\n",
    "from mpl_toolkits import mplot3d\n",
    "import matplotlib.animation as animation\n",
    "import os\n",
    "\n",
    "#You can change the file that you are trying to read here:\n",
    "\n",
    "filename = \"walking_1\"\n",
    "folder = \"hw2data/train/\"\n",
    "\n",
    "vals = np.load(folder + filename + \".npy\")\n",
    "\n",
    "print(vals.shape)\n",
    "\n",
    "xyz = np.reshape( vals[:, :], [38, 3, -1])\n",
    "\n",
    "print(xyz.shape)"
   ]
  },
  {
   "cell_type": "code",
   "execution_count": 2,
   "metadata": {},
   "outputs": [],
   "source": [
    "r = 1000\n",
    "xroot, yroot, zroot = xyz[0,0,0], xyz[0, 0, 1], xyz[0,0, 2]\n",
    "\n",
    "I = np.array(\n",
    "        [1, 2, 3, 4, 5, 6, 1, 8, 9, 10, 11, 12, 1, 14, 15, 16, 17, 18, 19, 16, 21, 22, 23, 25, 26, 24, 28, 16, 30, 31,\n",
    "         32, 33, 34, 35, 36, 37]) - 1\n",
    "J = np.array(\n",
    "        [2, 3, 4, 5, 6, 7, 8, 9, 10, 11, 12, 13, 14, 15, 16, 17, 18, 19, 20, 21, 22, 23, 24, 26, 27, 28, 29, 30, 31, 32,\n",
    "         33, 34, 35, 36, 37, 38]) - 1\n",
    "\n",
    "for joint in range(1, xyz.shape[2]):\n",
    "\n",
    "    fig = plt.figure(figsize=(10, 10))\n",
    "    ax = plt.axes(projection='3d')\n",
    "    for move in range(0, I.shape[0]):\n",
    "        xline = np.array(xyz[I[move], 0, joint], xyz[J[move], 0, joint])\n",
    "        yline = np.array(xyz[I[move], 1, joint], xyz[J[move], 1, joint])\n",
    "        zline = np.array(xyz[I[move], 2, joint], xyz[J[move], 2, joint])\n",
    "        ax.plot(xline, yline, zline)\n",
    "    \n",
    "    ax.set_xlim([-r + xroot, r + xroot])\n",
    "    ax.set_ylim([-r + yroot, r + yroot])\n",
    "    ax.set_zlim([-r + zroot, r + zroot])\n",
    "\n",
    "    plt.savefig(f\"{joint}.png\")\n",
    "    plt.close()\n",
    "\n",
    "from PIL import Image\n",
    "\n",
    "images = [Image.open(f\"{n}.png\") for n in range(1, xyz.shape[2])]\n",
    "images[0].save(filename + '.gif', save_all=True, append_images=images[1:], duration=30, loop=0)\n",
    "\n",
    "for n in range(1, xyz.shape[2]):\n",
    "    os.remove(f\"{n}.png\")"
   ]
  },
  {
   "cell_type": "code",
   "execution_count": null,
   "metadata": {},
   "outputs": [],
   "source": []
  }
 ],
 "metadata": {
  "kernelspec": {
   "display_name": "amath",
   "language": "python",
   "name": "python3"
  },
  "language_info": {
   "codemirror_mode": {
    "name": "ipython",
    "version": 3
   },
   "file_extension": ".py",
   "mimetype": "text/x-python",
   "name": "python",
   "nbconvert_exporter": "python",
   "pygments_lexer": "ipython3",
   "version": "3.12.2"
  }
 },
 "nbformat": 4,
 "nbformat_minor": 2
}
